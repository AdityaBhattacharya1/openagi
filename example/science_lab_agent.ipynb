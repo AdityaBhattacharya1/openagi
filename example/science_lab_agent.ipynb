{
  "nbformat": 4,
  "nbformat_minor": 0,
  "metadata": {
    "colab": {
      "provenance": []
    },
    "kernelspec": {
      "name": "python3",
      "display_name": "Python 3"
    },
    "language_info": {
      "name": "python"
    }
  },
  "cells": [
    {
      "cell_type": "markdown",
      "source": [
        "## QA Science Agent"
      ],
      "metadata": {
        "id": "ta8QtaXzrByo"
      }
    },
    {
      "cell_type": "markdown",
      "source": [
        "### Installation - We will use OpenAI (LLM) and Tavily (Action-Tool)"
      ],
      "metadata": {
        "id": "QgWKKV05rGuz"
      }
    },
    {
      "cell_type": "code",
      "execution_count": null,
      "metadata": {
        "id": "4K_qWjjlcPXz"
      },
      "outputs": [],
      "source": [
        "!pip install openagi"
      ]
    },
    {
      "cell_type": "code",
      "source": [
        "!pip install tavily-python"
      ],
      "metadata": {
        "id": "STBE74AYia5Y"
      },
      "execution_count": null,
      "outputs": []
    },
    {
      "cell_type": "code",
      "source": [
        "from openagi.actions.tools.tavilyqasearch import TavilyWebSearchQA\n",
        "from openagi.actions.files import WriteFileAction,ReadFileAction\n",
        "from openagi.agent import Admin\n",
        "from openagi.planner.task_decomposer import TaskPlanner\n",
        "from openagi.llms.openai import OpenAIModel\n",
        "from openagi.worker import Worker"
      ],
      "metadata": {
        "id": "T-jHjJ59jdmm"
      },
      "execution_count": 26,
      "outputs": []
    },
    {
      "cell_type": "code",
      "source": [
        "import os\n",
        "from getpass import getpass\n",
        "\n",
        "os.environ['OPENAI_API_KEY'] = getpass(\"Enter your OpenAI API key:\") #Get key from: https://platform.openai.com/api-keys\n",
        "os.environ['TAVILY_API_KEY'] = getpass(\"Enter your Tavily search key:\") # Get key from: https://app.tavily.com/home"
      ],
      "metadata": {
        "colab": {
          "base_uri": "https://localhost:8080/"
        },
        "id": "Umccd17gkEsx",
        "outputId": "5d572759-f26b-485a-9084-9b64a463490b"
      },
      "execution_count": 6,
      "outputs": [
        {
          "name": "stdout",
          "output_type": "stream",
          "text": [
            "Enter your OpenAI API key:··········\n",
            "Enter your Tavily search key:··········\n"
          ]
        }
      ]
    },
    {
      "cell_type": "markdown",
      "source": [
        "### Define LLM"
      ],
      "metadata": {
        "id": "NLAQ819XsnKe"
      }
    },
    {
      "cell_type": "code",
      "source": [
        "config = OpenAIModel.load_from_env_config()\n",
        "llm = OpenAIModel(config=config)"
      ],
      "metadata": {
        "id": "7_IRcP6LsooF"
      },
      "execution_count": 27,
      "outputs": []
    },
    {
      "cell_type": "markdown",
      "source": [
        "### Define Task Planner and Action"
      ],
      "metadata": {
        "id": "PTFd3ZQPsRIp"
      }
    },
    {
      "cell_type": "code",
      "source": [
        "planner = TaskPlanner()\n",
        "action = TavilyWebSearchQA"
      ],
      "metadata": {
        "id": "ZU1LrGuop664"
      },
      "execution_count": 28,
      "outputs": []
    },
    {
      "cell_type": "markdown",
      "source": [
        "### Worker"
      ],
      "metadata": {
        "id": "yPV-dI-KsUFH"
      }
    },
    {
      "cell_type": "code",
      "source": [
        "explorer =  Worker(\n",
        "    role=\"Concept Explorer\",\n",
        "    instructions= \"\"\"\n",
        "    As a Science Assignment Reviewer, your role is to help students improve their written assignments and projects. Your tasks include:\n",
        "      - Reviewing the student's work for clarity, accuracy, and depth of understanding.\n",
        "      - Providing feedback on the scientific content and structure.\n",
        "      - Suggesting improvements in argumentation and evidence presentation.\n",
        "    \"\"\",\n",
        "    actions=[\n",
        "        action,WriteFileAction\n",
        "    ],\n",
        "    max_iteration = 10\n",
        ")"
      ],
      "metadata": {
        "id": "pVChH6YAqAdi"
      },
      "execution_count": 29,
      "outputs": []
    },
    {
      "cell_type": "code",
      "source": [
        "lab_guide =  Worker(\n",
        "    role=\"Lab Guide\",\n",
        "    instructions= \"\"\"\n",
        "    As a Virtual Lab Guide, your role is to assist students in planning and executing science experiments. Your tasks include:\n",
        "      - Searching for experimental protocols and step-by-step guides.\n",
        "      - Recommending safe practices and necessary precautions.\n",
        "      - Suggesting ways to document observations and results.\n",
        "      - Providing troubleshooting tips for common issues during experiments.\n",
        "    \"\"\",\n",
        "    actions=[\n",
        "        ReadFileAction,action,WriteFileAction\n",
        "    ],\n",
        "    max_iteration = 10\n",
        ")"
      ],
      "metadata": {
        "id": "aAs1xRfSr3d6"
      },
      "execution_count": 30,
      "outputs": []
    },
    {
      "cell_type": "markdown",
      "source": [
        "### Define Admin"
      ],
      "metadata": {
        "id": "vQ9nq9K8sX19"
      }
    },
    {
      "cell_type": "code",
      "source": [
        "admin = Admin(\n",
        "    actions = [ReadFileAction,action,WriteFileAction],\n",
        "    planner = planner,\n",
        "    llm=llm,\n",
        ")\n",
        "admin.assign_workers([explorer, lab_guide])"
      ],
      "metadata": {
        "id": "tetoZPgYsP4g"
      },
      "execution_count": 31,
      "outputs": []
    },
    {
      "cell_type": "code",
      "source": [
        "report = admin.run(\n",
        "    query = \"I need a report on Screw Guage\",\n",
        "    description = \"Explain the Screw Guage concept to a 10 year old kid who enjoys Cricket\"\n",
        ")"
      ],
      "metadata": {
        "id": "AjdzZXs-s4Y2"
      },
      "execution_count": null,
      "outputs": []
    },
    {
      "cell_type": "code",
      "source": [
        "print(report)"
      ],
      "metadata": {
        "colab": {
          "base_uri": "https://localhost:8080/"
        },
        "id": "fuzePDW9tQ1H",
        "outputId": "b6bc5db3-b35c-4adb-c945-5c00f32928df"
      },
      "execution_count": 33,
      "outputs": [
        {
          "output_type": "stream",
          "name": "stdout",
          "text": [
            "### Understanding the Screw Gauge (Micrometer)\n",
            "\n",
            "The **screw gauge**, also known as a **micrometer**, is a high-precision tool designed to measure very small distances with exceptional accuracy. The device features:\n",
            "\n",
            "- A **U-shaped frame**\n",
            "- A **spindle** that moves when the thimble is rotated\n",
            "- A **scale** that facilitates reading the measurement\n",
            "\n",
            "Imagine measuring the thickness of a cricket bat's edge. Just as a batsman needs to know the precise thickness for optimal control and performance, engineers and scientists utilize the screw gauge to measure materials accurately for various applications.\n",
            "\n",
            "This tool is indispensable in fields where precise measurements are paramount, such as in **mechanical engineering**, **manufacturing**, and **science laboratories**.\n"
          ]
        }
      ]
    }
  ]
}